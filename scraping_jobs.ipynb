{
 "cells": [
  {
   "cell_type": "code",
   "execution_count": null,
   "metadata": {},
   "outputs": [],
   "source": [
    "from linkedin_scraper import get_links, links_to_df\n",
    "import sqlalchemy\n",
    "from sqlalchemy.orm import sessionmaker\n",
    "import sqlite3"
   ]
  },
  {
   "cell_type": "markdown",
   "metadata": {},
   "source": [
    "### Getting our data"
   ]
  },
  {
   "cell_type": "code",
   "execution_count": null,
   "metadata": {},
   "outputs": [],
   "source": [
    "URL = 'https://br.linkedin.com/jobs'\n",
    "job_keyword = 'Data Scientist'\n",
    "driver = webdriver.Chrome(executable_path='/Users/pedrodib/Python/Linkedin Webscraping/chromedriver')\n",
    "\n",
    "# Looping through the links list to get some info about the jobs and saving them into a dictionary\n",
    "links = get_links(URL, job_keyword, driver)\n",
    "jobs_dataframe = links_to_df(job_keyword, links)\n",
    "\n",
    "# Making sure we take only the values whose title are different from null\n",
    "jobs_dataframe = jobs_dataframe[jobs_dataframe['title'].notna()]\n",
    "\n",
    "# Checking if there are duplicates\n",
    "jobs_dataframe = jobs_dataframe.drop_duplicates(subset=['description'])"
   ]
  },
  {
   "cell_type": "markdown",
   "metadata": {},
   "source": [
    "### Storing the data"
   ]
  },
  {
   "cell_type": "code",
   "execution_count": null,
   "metadata": {},
   "outputs": [],
   "source": [
    "# Setting the database\n",
    "# TODO: migrate the database from SQLite to a PostgreSQL table\n",
    "DATABASE_LOCATION = 'sqlite:///new_jobs_database.sqlite'\n",
    "\n",
    "# Loading the data\n",
    "engine = sqlalchemy.create_engine(DATABASE_LOCATION)\n",
    "conn = sqlite3.connect('new_jobs_database.sqlite')\n",
    "cursor = conn.cursor()\n",
    "\n",
    "# Let's create a table with some basic structure\n",
    "sql_query = '''\n",
    "CREATE TABLE IF NOT EXISTS jobs_database(\n",
    "    keyword VARCHAR(30) NOT NULL,\n",
    "    title VARCHAR(60),\n",
    "    company_name VARCHAR(30),\n",
    "    location VARCHAR(60),\n",
    "    description VARCHAR(8000) NOT NULL,\n",
    "    link VARCHAR(200) NOT NULL,\n",
    "    CONSTRAINT primary_key_constraint PRIMARY KEY (description)\n",
    "    )\n",
    "    '''\n",
    "\n",
    "# Executing the query we have hust created\n",
    "cursor.execute(sql_query)\n",
    "print('Opened database successfully.')\n",
    "\n",
    "# Appending the new values\n",
    "jobs_dataframe.to_sql('jobs_database', engine, index=False, if_exists='append')\n",
    "print('Values inserted into database.')\n",
    "\n",
    "# Closing the database\n",
    "cursor.close()\n",
    "print('Closed database successfully.')"
   ]
  }
 ],
 "metadata": {
  "language_info": {
   "name": "python"
  },
  "orig_nbformat": 4
 },
 "nbformat": 4,
 "nbformat_minor": 2
}
